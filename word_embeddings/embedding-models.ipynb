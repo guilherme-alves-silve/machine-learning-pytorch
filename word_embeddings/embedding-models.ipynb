{
 "cells": [
  {
   "cell_type": "markdown",
   "id": "db92d2fa-4e98-44c5-88b6-fdca0afca2b5",
   "metadata": {},
   "source": [
    "Study of Word2Vec:\n",
    "\n",
    "- [The Complete Neural Networks Bootcamp: Theory, Applications](https://www.udemy.com/course/the-complete-neural-networks-bootcamp-theory-applications)\n",
    "- [Word Embeddings Tutorial](https://docs.pytorch.org/tutorials/beginner/nlp/word_embeddings_tutorial.html)\n",
    "- [Negative Log Likelihood Loss](https://docs.pytorch.org/docs/stable/generated/torch.nn.NLLLoss.html#torch.nn.NLLLoss)"
   ]
  },
  {
   "cell_type": "markdown",
   "id": "ec2c1db8-1298-49dc-afbb-ef0f55106b1f",
   "metadata": {},
   "source": [
    "## N-Gram"
   ]
  },
  {
   "cell_type": "code",
   "execution_count": 23,
   "id": "ceb075b0-72e0-4c91-b90e-60b2dfe43561",
   "metadata": {},
   "outputs": [
    {
     "name": "stdout",
     "output_type": "stream",
     "text": [
      "[(['forty', 'When'], 'winters'), (['winters', 'forty'], 'shall'), (['shall', 'winters'], 'besiege'), (['besiege', 'shall'], 'thy'), (['thy', 'besiege'], 'brow,')]\n"
     ]
    }
   ],
   "source": [
    "# Author: Robert Guthrie\n",
    "\n",
    "import torch\n",
    "import torch.nn as nn\n",
    "import torch.nn.functional as F\n",
    "import torch.optim as optim\n",
    "\n",
    "torch.manual_seed(1)\n",
    "\n",
    "CONTEXT_SIZE = 2\n",
    "EMBEDDING_DIM = 10\n",
    "# We will use Shakespeare Sonnet 2\n",
    "test_sentence = \"\"\"When forty winters shall besiege thy brow,\n",
    "And dig deep trenches in thy beauty's field,\n",
    "Thy youth's proud livery so gazed on now,\n",
    "Will be a totter'd weed of small worth held:\n",
    "Then being asked, where all thy beauty lies,\n",
    "Where all the treasure of thy lusty days;\n",
    "To say, within thine own deep sunken eyes,\n",
    "Were an all-eating shame, and thriftless praise.\n",
    "How much more praise deserv'd thy beauty's use,\n",
    "If thou couldst answer 'This fair child of mine\n",
    "Shall sum my count, and make my old excuse,'\n",
    "Proving his beauty by succession thine!\n",
    "This were to be new made when thou art old,\n",
    "And see thy blood warm when thou feel'st it cold.\"\"\".split()\n",
    "# we should tokenize the input, but we will ignore that for now\n",
    "# build a list of tuples.\n",
    "# Each tuple is ([ word_i-CONTEXT_SIZE, ..., word_i-1 ], target word)\n",
    "ngrams = [\n",
    "    (\n",
    "        [test_sentence[i - j - 1] for j in range(CONTEXT_SIZE)],\n",
    "        test_sentence[i]\n",
    "    )\n",
    "    for i in range(CONTEXT_SIZE, len(test_sentence))\n",
    "]\n",
    "# Print the first 5, just so you can see what they look like.\n",
    "print(ngrams[:5])\n",
    "\n",
    "vocab = set(test_sentence)\n",
    "word_to_ix = {word: i for i, word in enumerate(vocab)}\n",
    "\n",
    "\n",
    "class NGramLanguageModeler(nn.Module):\n",
    "\n",
    "    def __init__(self, vocab_size, embedding_dim, context_size):\n",
    "        super(NGramLanguageModeler, self).__init__()\n",
    "        self.embeddings = nn.Embedding(vocab_size, embedding_dim)\n",
    "        self.linear1 = nn.Linear(context_size * embedding_dim, 128)\n",
    "        self.linear2 = nn.Linear(128, vocab_size)\n",
    "\n",
    "    def forward(self, inputs):\n",
    "        embeds = self.embeddings(inputs).view((1, -1))\n",
    "        out = F.relu(self.linear1(embeds))\n",
    "        out = self.linear2(out)\n",
    "        log_probs = F.log_softmax(out, dim=1)\n",
    "        return log_probs"
   ]
  },
  {
   "cell_type": "code",
   "execution_count": 24,
   "id": "6f4386ec-ddbe-45d5-9384-93d9583ff8c9",
   "metadata": {},
   "outputs": [
    {
     "name": "stdout",
     "output_type": "stream",
     "text": [
      "[520.7694346904755, 518.1315999031067, 515.512300491333, 512.9100918769836, 510.3249590396881, 507.75421500205994, 505.1987090110779, 502.6568536758423, 500.1294388771057, 497.6132731437683]\n",
      "tensor([-0.3743, -2.4118, -1.2774, -0.0639, -0.0941, -2.3154,  0.5570,  0.5059,\n",
      "        -0.2066,  0.6928], grad_fn=<SelectBackward0>)\n"
     ]
    }
   ],
   "source": [
    "losses = []\n",
    "loss_function = nn.NLLLoss()\n",
    "model = NGramLanguageModeler(len(vocab), EMBEDDING_DIM, CONTEXT_SIZE)\n",
    "optimizer = optim.SGD(model.parameters(), lr=0.001)\n",
    "\n",
    "for epoch in range(10):\n",
    "    total_loss = 0\n",
    "    for context, target in ngrams:\n",
    "\n",
    "        # Step 1. Prepare the inputs to be passed to the model (i.e, turn the words\n",
    "        # into integer indices and wrap them in tensors)\n",
    "        context_idxs = torch.tensor([word_to_ix[w] for w in context], dtype=torch.long)\n",
    "\n",
    "        # Step 2. Recall that torch *accumulates* gradients. Before passing in a\n",
    "        # new instance, you need to zero out the gradients from the old\n",
    "        # instance\n",
    "        model.zero_grad()\n",
    "\n",
    "        # Step 3. Run the forward pass, getting log probabilities over next\n",
    "        # words\n",
    "        log_probs = model(context_idxs)\n",
    "\n",
    "        # Step 4. Compute your loss function. (Again, Torch wants the target\n",
    "        # word wrapped in a tensor)\n",
    "        loss = loss_function(log_probs, torch.tensor([word_to_ix[target]], dtype=torch.long))\n",
    "\n",
    "        # Step 5. Do the backward pass and update the gradient\n",
    "        loss.backward()\n",
    "        optimizer.step()\n",
    "\n",
    "        # Get the Python number from a 1-element Tensor by calling tensor.item()\n",
    "        total_loss += loss.item()\n",
    "    losses.append(total_loss)\n",
    "print(losses)  # The loss decreased every iteration over the training data!\n",
    "\n",
    "# To get the embedding of a particular word, e.g. \"beauty\"\n",
    "print(model.embeddings.weight[word_to_ix[\"beauty\"]])"
   ]
  },
  {
   "cell_type": "markdown",
   "id": "f1d37ebd-8b55-4e06-97a8-617b2bc5527c",
   "metadata": {},
   "source": [
    "## CBOW (Continuous Bag Of Words)"
   ]
  },
  {
   "cell_type": "code",
   "execution_count": 65,
   "id": "b1c7d689-35f5-428c-b827-9cc35483b6e5",
   "metadata": {},
   "outputs": [
    {
     "name": "stdout",
     "output_type": "stream",
     "text": [
      "[(['are', 'We', 'to', 'study'], 'about'), (['about', 'are', 'study', 'the'], 'to'), (['to', 'about', 'the', 'idea'], 'study'), (['study', 'to', 'idea', 'of'], 'the'), (['the', 'study', 'of', 'a'], 'idea')]\n",
      "Epoch 0 - Error: 3.880873519798805\n",
      "Epoch 10 - Error: 3.6340578342306205\n",
      "Epoch 20 - Error: 3.3942636539196145\n",
      "Epoch 30 - Error: 3.1537693327870864\n",
      "Epoch 40 - Error: 2.9094102773173103\n",
      "Epoch 50 - Error: 2.6600070986254463\n",
      "Epoch 60 - Error: 2.4084495408781645\n",
      "Epoch 70 - Error: 2.1590924602130364\n",
      "Epoch 80 - Error: 1.9159416926318202\n",
      "Epoch 90 - Error: 1.6833059166012139\n",
      "Epoch 100 - Error: 1.4653594087937782\n",
      "Epoch 110 - Error: 1.2654483369712173\n",
      "Epoch 120 - Error: 1.085479340419687\n",
      "Epoch 130 - Error: 0.9265465315045982\n",
      "Epoch 140 - Error: 0.788424920933\n",
      "Epoch 150 - Error: 0.6702969045988445\n",
      "Epoch 160 - Error: 0.5706690083546885\n",
      "Epoch 170 - Error: 0.4875844528192076\n",
      "Epoch 180 - Error: 0.4187371052544692\n",
      "Epoch 190 - Error: 0.36178324667030365\n",
      "Epoch 200 - Error: 0.31471240263560724\n",
      "Epoch 210 - Error: 0.2757484146618637\n",
      "Epoch 220 - Error: 0.24335944414909544\n",
      "Epoch 230 - Error: 0.21632827619283362\n",
      "Epoch 240 - Error: 0.19362610212430872\n",
      "Epoch 250 - Error: 0.1744585071272891\n",
      "Epoch 260 - Error: 0.15817264454631969\n",
      "Epoch 270 - Error: 0.14424460875833855\n",
      "Epoch 280 - Error: 0.13225397136833134\n",
      "Epoch 290 - Error: 0.12185380781262085\n",
      "Epoch 300 - Error: 0.11277779837235294\n",
      "Epoch 310 - Error: 0.10480713519942143\n",
      "Epoch 320 - Error: 0.09776248721855468\n",
      "Epoch 330 - Error: 0.09150315821170807\n",
      "Epoch 340 - Error: 0.08591564539177664\n",
      "Epoch 350 - Error: 0.08090042960348315\n",
      "Epoch 360 - Error: 0.07638060579333326\n",
      "Epoch 370 - Error: 0.07228981194503863\n",
      "Epoch 380 - Error: 0.06857192673688305\n",
      "Epoch 390 - Error: 0.06518119398568725\n",
      "Epoch 400 - Error: 0.06207894848595406\n",
      "Epoch 410 - Error: 0.05923077912101972\n",
      "Epoch 420 - Error: 0.05660886816873119\n",
      "Epoch 430 - Error: 0.05418902564922284\n",
      "Epoch 440 - Error: 0.051949199513885484\n",
      "Epoch 450 - Error: 0.04987094503152987\n",
      "Epoch 460 - Error: 0.04793819345148473\n",
      "Epoch 470 - Error: 0.046136080142881335\n",
      "Epoch 480 - Error: 0.044453429909230305\n",
      "Epoch 490 - Error: 0.04287929924461862\n"
     ]
    },
    {
     "data": {
      "image/png": "[encoded data removed]",
      "text/plain": [
       "<Figure size 640x480 with 1 Axes>"
      ]
     },
     "metadata": {},
     "output_type": "display_data"
    },
    {
     "name": "stdout",
     "output_type": "stream",
     "text": [
      "tensor([ 1.4611, -0.9072, -0.3904,  0.1336, -0.4532, -0.7941,  0.1024,  0.8421,\n",
      "         0.2713,  1.0738], grad_fn=<SelectBackward0>)\n"
     ]
    }
   ],
   "source": [
    "import numpy as np\n",
    "import matplotlib.pyplot as plt\n",
    "\n",
    "CONTEXT_SIZE = 2  # 2 words to the left, 2 to the right\n",
    "EPOCHS = 500\n",
    "EMBEDDING_DIM = 10\n",
    "raw_text = \"\"\"We are about to study the idea of a computational process.\n",
    "Computational processes are abstract beings that inhabit computers.\n",
    "As they evolve, processes manipulate other abstract things called data.\n",
    "The evolution of a process is directed by a pattern of rules\n",
    "called a program. People create programs to direct processes. In effect,\n",
    "we conjure the spirits of the computer with our spells.\"\"\".split()\n",
    "\n",
    "# By deriving a set from `raw_text`, we deduplicate the array\n",
    "vocab = set(raw_text)\n",
    "vocab_size = len(vocab)\n",
    "\n",
    "word_to_ix = {word: i for i, word in enumerate(vocab)}\n",
    "ix_to_word = {i: word for word, i in word_to_ix.items()}\n",
    "data = []\n",
    "for i in range(CONTEXT_SIZE, len(raw_text) - CONTEXT_SIZE):\n",
    "    context = (\n",
    "        [raw_text[i - j - 1] for j in range(CONTEXT_SIZE)]\n",
    "        + [raw_text[i + j + 1] for j in range(CONTEXT_SIZE)]\n",
    "    )\n",
    "    target = raw_text[i]\n",
    "    data.append((context, target))\n",
    "print(data[:5])\n",
    "\n",
    "def make_context_vector(context: tuple, word_to_ix: dict):\n",
    "    idxs = [word_to_ix[w] for w in context]\n",
    "    return torch.tensor(idxs, dtype=torch.long)\n",
    "\n",
    "def make_words(idxs: torch.Tensor):\n",
    "    words = [ix_to_word[i.item()] for i in idxs]\n",
    "    return words\n",
    "\n",
    "class CBOW(nn.Module):\n",
    "\n",
    "    def __init__(self, vocab_size: int, embedding_dim: int, context_size: int):\n",
    "        super(CBOW, self).__init__()\n",
    "        self.embeddings = nn.Embedding(vocab_size, embedding_dim)\n",
    "        # the input will be reshaped, must be 2 times because it's 2 before and 2 after\n",
    "        full_context_size = 2 * context_size\n",
    "        self.linear1 = nn.Linear(full_context_size * embedding_dim, 128)\n",
    "        self.linear2 = nn.Linear(128, vocab_size)\n",
    "\n",
    "    def forward(self, inputs: torch.Tensor):\n",
    "        embeds = self.embeddings(inputs).view((1, -1))\n",
    "        out = F.relu(self.linear1(embeds))\n",
    "        out = self.linear2(out)\n",
    "        return F.log_softmax(out, dim=1)\n",
    "\n",
    "# Create your model and train. Here are some functions to help you make\n",
    "# the data ready for use by your module.\n",
    "losses = []\n",
    "\n",
    "cbow_model = CBOW(vocab_size, EMBEDDING_DIM, CONTEXT_SIZE)\n",
    "# negative log likelihood loss\n",
    "loss_func = nn.NLLLoss()\n",
    "opt = optim.SGD(cbow_model.parameters(), lr=0.001)\n",
    "for epoch in range(EPOCHS):\n",
    "    losses_epoch = []\n",
    "    for context, target in data:\n",
    "        opt.zero_grad()\n",
    "        inputs = make_context_vector(context, word_to_ix)\n",
    "        logs_pred = cbow_model(inputs)\n",
    "        target_idx = make_context_vector([target], word_to_ix)\n",
    "        loss = loss_func(logs_pred, target_idx)\n",
    "        loss.backward()\n",
    "        opt.step()\n",
    "        losses_epoch.append(loss.item())\n",
    "    mean_error = np.mean(losses_epoch)\n",
    "    losses.append(mean_error)\n",
    "    if epoch % 10 == 0:\n",
    "        print(f\"Epoch {epoch} - Error: {mean_error}\")\n",
    "\n",
    "x = np.arange(len(losses))\n",
    "plt.plot(x, losses, '-')\n",
    "plt.show()\n",
    "\n",
    "# To get the embedding of a particular word, e.g. \"beauty\"\n",
    "print(cbow_model.embeddings.weight[word_to_ix[\"processes\"]])"
   ]
  },
  {
   "cell_type": "code",
   "execution_count": 66,
   "id": "bb89a0c3-46e1-459f-ab15-c1aeea2c9115",
   "metadata": {},
   "outputs": [
    {
     "data": {
      "text/plain": [
       "['are', 'We', 'to', 'study']"
      ]
     },
     "execution_count": 66,
     "metadata": {},
     "output_type": "execute_result"
    }
   ],
   "source": [
    "test_pred = make_context_vector(data[0][0], word_to_ix)  # example\n",
    "make_words(test_pred)"
   ]
  },
  {
   "cell_type": "code",
   "execution_count": 76,
   "id": "3365f0fe-789f-4997-b929-a8fae1a64bcb",
   "metadata": {},
   "outputs": [
    {
     "name": "stdout",
     "output_type": "stream",
     "text": [
      "['programs']\n",
      "['beings']\n"
     ]
    }
   ],
   "source": [
    "def predict(text):\n",
    "    with torch.no_grad():\n",
    "        phrase = text.split(\" \")\n",
    "        inputs = make_context_vector(phrase, word_to_ix)\n",
    "        logs_prod = cbow_model(inputs)\n",
    "        pred_idx = logs_prod.argmax(axis=1)\n",
    "        return make_words(pred_idx)\n",
    "\n",
    "print(predict(\"People create to direct\"))  # programs\n",
    "print(predict(\"processes are beings that\"))  # should be abstract, but isn't"
   ]
  }
 ],
 "metadata": {
  "kernelspec": {
   "display_name": "Python 3 (ipykernel)",
   "language": "python",
   "name": "python3"
  },
  "language_info": {
   "codemirror_mode": {
    "name": "ipython",
    "version": 3
   },
   "file_extension": ".py",
   "mimetype": "text/x-python",
   "name": "python",
   "nbconvert_exporter": "python",
   "pygments_lexer": "ipython3",
   "version": "3.11.9"
  }
 },
 "nbformat": 4,
 "nbformat_minor": 5
}
